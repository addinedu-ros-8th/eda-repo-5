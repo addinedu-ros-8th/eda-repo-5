{
 "cells": [
  {
   "cell_type": "markdown",
   "metadata": {},
   "source": [
    "# 데이터 가공"
   ]
  },
  {
   "cell_type": "markdown",
   "metadata": {},
   "source": [
    "## 데이터초기 가공"
   ]
  },
  {
   "cell_type": "code",
   "execution_count": null,
   "metadata": {},
   "outputs": [],
   "source": [
    "import pandas as pd\n",
    "import numpy as np\n",
    "\n",
    "data = pd.read_csv(\"/home/woojae/workspace/EDA/src/edaproject/data/culture_site.csv\", encoding=\"cp949\")\n",
    "data.head()"
   ]
  },
  {
   "cell_type": "code",
   "execution_count": null,
   "metadata": {},
   "outputs": [],
   "source": [
    "data = data[data[\"시도 명칭\"].apply(lambda x : x == \"서울특별시\")]\n",
    "data.head()"
   ]
  },
  {
   "cell_type": "code",
   "execution_count": null,
   "metadata": {},
   "outputs": [],
   "source": [
    "data = data[data[\"반려동물 동반 가능정보\"].apply(lambda x : x == 'Y')]\n",
    "data.head()"
   ]
  },
  {
   "cell_type": "code",
   "execution_count": null,
   "metadata": {},
   "outputs": [],
   "source": [
    "preprocessed_data = data[[\"시설명\", \"카테고리3\", \"지번주소\", \"위도\", \"경도\"]].reset_index(drop=True)\n",
    "preprocessed_data.head()"
   ]
  },
  {
   "cell_type": "code",
   "execution_count": null,
   "metadata": {},
   "outputs": [],
   "source": [
    "preprocessed_data.rename(columns={\"카테고리3\": \"카테고리\", \"지번주소\": \"주소\"}, inplace=True)\n",
    "preprocessed_data.head(20)"
   ]
  },
  {
   "cell_type": "markdown",
   "metadata": {},
   "source": [
    "## 서울시 00구 00동을 주소2로 따로 분리"
   ]
  },
  {
   "cell_type": "code",
   "execution_count": null,
   "metadata": {},
   "outputs": [],
   "source": [
    "preprocessed_data['주소2'] = preprocessed_data['주소'].str.extract(r'(서울특별시\\s[가-힣]+구\\s[가-힣]+동)')"
   ]
  },
  {
   "cell_type": "markdown",
   "metadata": {},
   "source": [
    "## 주소3 = 시설명 + 주소2 (주소3컬럼추가)"
   ]
  },
  {
   "cell_type": "code",
   "execution_count": null,
   "metadata": {},
   "outputs": [],
   "source": [
    "preprocessed_data['주소3'] = preprocessed_data['시설명'] + \" \" + preprocessed_data['주소2']"
   ]
  },
  {
   "cell_type": "markdown",
   "metadata": {},
   "source": [
    "# 주소3을 카카오맵에 검색해서 상세 주소 얻기"
   ]
  },
  {
   "cell_type": "code",
   "execution_count": null,
   "metadata": {},
   "outputs": [],
   "source": [
    "%matplotlib inline\n",
    "\n",
    "import pandas as pd\n",
    "import numpy as np\n",
    "import matplotlib.pyplot as plt\n",
    "import seaborn as sns\n",
    "import warnings\n",
    "warnings.filterwarnings(\"ignore\")\n",
    "from selenium import webdriver\n",
    "from selenium.webdriver.chrome.service import Service\n",
    "from selenium.webdriver.chrome.options import Options\n",
    "from bs4 import BeautifulSoup\n",
    "import re\n",
    "import time\n",
    "from selenium.webdriver.common.keys import Keys\n",
    "import math\n",
    "from selenium.webdriver.common.by import By\n",
    "\n",
    "\n",
    "options = webdriver.ChromeOptions()\n",
    "\n",
    "prefs = {'download.default_directory': '/home/woojae/workspace/EDA/src/edaproject/data',\n",
    "         'download.prompt_for_download': False}\n",
    "options.add_experimental_option('prefs', prefs)\n",
    "\n",
    "url = \"https://map.kakao.com/\"\n",
    "driver = webdriver.Chrome(service=Service(\"/home/woojae/workspace/EDA/driver/chromedriver-linux64/chromedriver\"),\n",
    "                          options=options)\n",
    "\n",
    "\n",
    "##주소3을 이름리스트로 변환\n",
    "name_list_for_kakaomap = preprocessed_data['주소3'].tolist()\n",
    "\n",
    "##상세주소 링크를 detail_site_list에 저장\n",
    "detail_site_list = []\n",
    "\n",
    "for i in name_list_for_kakaomap:\n",
    "    search_bar = driver.find_element(By.ID, \"search.keyword.query\")  \n",
    "    search_bar.click() \n",
    "    search_bar.send_keys(i)  \n",
    "    search_bar.send_keys(Keys.ENTER)\n",
    "    time.sleep(1)\n",
    "    page = driver.page_source\n",
    "    soup = BeautifulSoup(page, \"html.parser\")\n",
    "\n",
    "    link_tag = soup.find(\"a\", class_=\"moreview\")\n",
    "    time.sleep(1)\n",
    "\n",
    "    if link_tag:\n",
    "        href = link_tag.get(\"href\")\n",
    "        detail_site_list.append(href)\n",
    "    else:\n",
    "        detail_site_list.append(\"\")\n",
    "    time.sleep(1)\n",
    "\n",
    "    current_url = driver.current_url\n",
    "    driver.get(current_url)\n",
    "    time.sleep(1)\n"
   ]
  },
  {
   "cell_type": "markdown",
   "metadata": {},
   "source": [
    "## 얻은 detail_site_list를 preprocessed_data에 추가"
   ]
  },
  {
   "cell_type": "code",
   "execution_count": null,
   "metadata": {},
   "outputs": [],
   "source": [
    "preprocessed_data['상세링크'] = detail_site_list"
   ]
  },
  {
   "cell_type": "markdown",
   "metadata": {},
   "source": [
    "## 저장"
   ]
  },
  {
   "cell_type": "code",
   "execution_count": null,
   "metadata": {},
   "outputs": [],
   "source": [
    "preprocessed_data.to_csv(\"/home/woojae/workspace/EDA/src/edaproject/data/k_culture_site_forkakaomap.csv\") "
   ]
  },
  {
   "cell_type": "markdown",
   "metadata": {},
   "source": [
    "## 동물약국데이터는 제외하기"
   ]
  },
  {
   "cell_type": "code",
   "execution_count": null,
   "metadata": {},
   "outputs": [],
   "source": [
    "import pandas as pd\n",
    "import numpy as np\n",
    "\n",
    "data = pd.read_csv(\"/home/ted/dev_ws/EDA/eda-repo-5/k_culture_site_forkakaomap.csv\")"
   ]
  },
  {
   "cell_type": "code",
   "execution_count": null,
   "metadata": {},
   "outputs": [],
   "source": [
    "filtered_data = data[data['카테고리'] != '동물약국']\n",
    "filtered_data"
   ]
  },
  {
   "cell_type": "markdown",
   "metadata": {},
   "source": [
    "## 상세링크에 nan값을 제외하기"
   ]
  },
  {
   "cell_type": "code",
   "execution_count": null,
   "metadata": {},
   "outputs": [],
   "source": [
    "filtered_data = filtered_data[filtered_data['상세링크'].notna()]"
   ]
  },
  {
   "cell_type": "markdown",
   "metadata": {},
   "source": [
    "## 시설명을 오름차순으로 하기"
   ]
  },
  {
   "cell_type": "code",
   "execution_count": null,
   "metadata": {},
   "outputs": [],
   "source": [
    "sorted_data = filtered_data.sort_values(by='시설명', ascending=True)\n",
    "sorted_data.head()"
   ]
  },
  {
   "cell_type": "markdown",
   "metadata": {},
   "source": [
    "## 상세링크를 리스트화하기"
   ]
  },
  {
   "cell_type": "code",
   "execution_count": null,
   "metadata": {},
   "outputs": [],
   "source": [
    "detailpagelink_list = sorted_data['상세링크'].tolist()\n",
    "detailpagelink_list"
   ]
  },
  {
   "cell_type": "markdown",
   "metadata": {},
   "source": [
    "# 상세링크에 들어가서 리뷰정보 가져오기. \n",
    "후기 더보기가 있다면 후기 더보기가 없어질때까지 누르고, 리뷰를 전부 불러오는 코드"
   ]
  },
  {
   "cell_type": "markdown",
   "metadata": {},
   "source": []
  },
  {
   "cell_type": "code",
   "execution_count": null,
   "metadata": {},
   "outputs": [],
   "source": [
    "import pandas as pd\n",
    "import numpy as np\n",
    "\n",
    "data = pd.read_csv(\"/home/ted/dev_ws/EDA/eda-repo-5/m_culture_site_forkakaomap.csv\")\n",
    "data.head()"
   ]
  },
  {
   "cell_type": "markdown",
   "metadata": {},
   "source": [
    "## 시설명을 리스트화하기"
   ]
  },
  {
   "cell_type": "code",
   "execution_count": null,
   "metadata": {},
   "outputs": [],
   "source": [
    "store_id = data['시설명'].tolist()\n",
    "store_id"
   ]
  },
  {
   "cell_type": "code",
   "execution_count": null,
   "metadata": {},
   "outputs": [],
   "source": [
    "%matplotlib inline\n",
    "\n",
    "import pandas as pd\n",
    "import numpy as np\n",
    "import matplotlib.pyplot as plt\n",
    "import seaborn as sns\n",
    "import warnings\n",
    "warnings.filterwarnings(\"ignore\")\n",
    "from selenium import webdriver\n",
    "from selenium.webdriver.chrome.service import Service\n",
    "from selenium.webdriver.chrome.options import Options\n",
    "from bs4 import BeautifulSoup\n",
    "import re\n",
    "import time\n",
    "from selenium.webdriver.common.keys import Keys\n",
    "import math\n",
    "from selenium.webdriver.common.by import By"
   ]
  },
  {
   "cell_type": "code",
   "execution_count": null,
   "metadata": {},
   "outputs": [],
   "source": [
    "from selenium import webdriver\n",
    "from selenium.webdriver.common.by import By\n",
    "from selenium.webdriver.chrome.service import Service\n",
    "from bs4 import BeautifulSoup\n",
    "import time\n",
    "\n",
    "review_lists = []\n",
    "\n",
    "for i in detailpagelink_list:\n",
    "    review_list = []\n",
    "    options = webdriver.ChromeOptions()\n",
    "\n",
    "    prefs = {'download.default_directory': '/home/ted/dev_ws/EDA/eda-repo-5/1227',\n",
    "             'download.prompt_for_download': False}\n",
    "    options.add_experimental_option('prefs', prefs)\n",
    "\n",
    "    url = i\n",
    "    driver = webdriver.Chrome(service=Service(\"/home/ted/dev_ws/EDA/driver/chromedriver-linux64/chromedriver\"),\n",
    "                               options=options)\n",
    "\n",
    "\n",
    "    driver.get(url)\n",
    "    time.sleep(1)\n",
    "\n",
    "    try:\n",
    "        link_more = driver.find_element(By.CLASS_NAME, \"link_more\")\n",
    "\n",
    "        if link_more.text == \"후기 더보기\":\n",
    "            while True:\n",
    "                link_more = driver.find_element(By.CLASS_NAME, \"link_more\")\n",
    "                if link_more.text == \"후기 접기\":\n",
    "                    break\n",
    "\n",
    "                link_more.click()\n",
    "                time.sleep(1)\n",
    "\n",
    "        html = driver.page_source\n",
    "        soup = BeautifulSoup(html, 'html.parser')\n",
    "        contents_div = soup.find(name='div', attrs={\"class\": \"evaluation_review\"})\n",
    "        reviews = contents_div.find_all(name=\"p\", attrs={\"class\": \"txt_comment\"})\n",
    "\n",
    "        for review in reviews:\n",
    "            review_text = review.get_text(strip=True)\n",
    "            review_text = review_text.replace(\"더보기\", \"\")\n",
    "            review_list.append(review_text)\n",
    "    except Exception as e:\n",
    "        print(f\"Error processing URL {url}: {e}\")\n",
    "\n",
    "    finally:\n",
    "        driver.quit()\n",
    "\n",
    "#review_lists = [[review] for review in review_list]\n",
    "    review_lists.append(review_list)"
   ]
  },
  {
   "cell_type": "code",
   "execution_count": null,
   "metadata": {},
   "outputs": [],
   "source": [
    "review_lists"
   ]
  },
  {
   "cell_type": "markdown",
   "metadata": {},
   "source": [
    "## 받은 리스트를 가게명, 리뷰로 분리"
   ]
  },
  {
   "cell_type": "code",
   "execution_count": null,
   "metadata": {},
   "outputs": [],
   "source": [
    "kkkk = []\n",
    "\n",
    "for store, reviews in zip(store_id, review_lists):\n",
    "    for review in reviews:\n",
    "        kkkk.append({\"store_name\": store, \"review\": review})"
   ]
  },
  {
   "cell_type": "code",
   "execution_count": null,
   "metadata": {},
   "outputs": [],
   "source": [
    "dfkkkk = pd.DataFrame(kkkk)"
   ]
  },
  {
   "cell_type": "code",
   "execution_count": null,
   "metadata": {},
   "outputs": [],
   "source": [
    "dfkkkk.to_csv(\"/home/ted/dev_ws/EDA/eda-repo-5/n_store_reviews.csv\", index=False, encoding=\"utf-8-sig\")"
   ]
  },
  {
   "cell_type": "markdown",
   "metadata": {},
   "source": [
    "## 없는 데이터 삭제"
   ]
  },
  {
   "cell_type": "code",
   "execution_count": null,
   "metadata": {},
   "outputs": [],
   "source": [
    "df_cleaned = dfkkkk[dfkkkk['review'].notna()]\n",
    "df_cleaned.head(50)"
   ]
  },
  {
   "cell_type": "markdown",
   "metadata": {},
   "source": [
    "## space만 친 데이터 삭제"
   ]
  },
  {
   "cell_type": "code",
   "execution_count": null,
   "metadata": {},
   "outputs": [],
   "source": [
    "df_cleaned2 = df_cleaned[~df_cleaned['review'].str.strip().eq('')]\n",
    "df_cleaned2.head(50)"
   ]
  },
  {
   "cell_type": "markdown",
   "metadata": {},
   "source": [
    "## 이모티콘 데이터 삭제"
   ]
  },
  {
   "cell_type": "code",
   "execution_count": null,
   "metadata": {},
   "outputs": [],
   "source": [
    "import re\n",
    "\n",
    "def remove_emojis(text):\n",
    "    emoji_pattern = re.compile(\n",
    "        \"[\\U00010000-\\U0010FFFF]\"  # 이모티콘 패턴\n",
    "        \"|[\\u2600-\\u26FF\\u2700-\\u27BF]\",  # 기호 이모지 패턴\n",
    "        flags=re.UNICODE,\n",
    "    )\n",
    "    return emoji_pattern.sub(r'', text) if isinstance(text, str) else text\n",
    "\n",
    "\n",
    "df_cleaned2['review'] = df_cleaned2['review'].apply(remove_emojis)\n",
    "df_cleaned2.head()"
   ]
  },
  {
   "cell_type": "code",
   "execution_count": null,
   "metadata": {},
   "outputs": [],
   "source": [
    "df_cleaned2.to_csv(\"/home/ted/dev_ws/EDA/eda-repo-5/r_store_reviews.csv\", index=False, encoding=\"utf-8-sig\")"
   ]
  },
  {
   "cell_type": "code",
   "execution_count": null,
   "metadata": {},
   "outputs": [],
   "source": [
    "df_cleaned3 = pd.read_csv(\"/home/ted/dev_ws/EDA/eda-repo-5/s_store_reviews.csv\")"
   ]
  },
  {
   "cell_type": "code",
   "execution_count": null,
   "metadata": {},
   "outputs": [],
   "source": [
    "df_cleaned4 = df_cleaned3[['store_name', 'review']]"
   ]
  },
  {
   "cell_type": "markdown",
   "metadata": {},
   "source": [
    "## 영어데이터 삭제"
   ]
  },
  {
   "cell_type": "code",
   "execution_count": null,
   "metadata": {},
   "outputs": [],
   "source": [
    "def remove_english(text):\n",
    "    return re.sub(r'[a-zA-Z]', '', text) if isinstance(text, str) else text\n",
    "\n",
    "df_cleaned4['review'] = df_cleaned4['review'].apply(remove_english)"
   ]
  },
  {
   "cell_type": "code",
   "execution_count": null,
   "metadata": {},
   "outputs": [],
   "source": [
    "df_cleaned4.to_csv(\"/home/ted/dev_ws/EDA/eda-repo-5/w_store_reviews.csv\", index=False, encoding=\"utf-8-sig\")"
   ]
  },
  {
   "cell_type": "code",
   "execution_count": null,
   "metadata": {},
   "outputs": [],
   "source": [
    "df_cleaned5 = pd.read_csv(\"/home/ted/dev_ws/EDA/eda-repo-5/x_store_reviews.csv\")"
   ]
  },
  {
   "cell_type": "code",
   "execution_count": null,
   "metadata": {},
   "outputs": [],
   "source": [
    "df_cleaned5.to_csv(\"/home/ted/dev_ws/EDA/eda-repo-5/y_store_reviews.csv\", index=False, encoding=\"utf-8-sig\")"
   ]
  }
 ],
 "metadata": {
  "kernelspec": {
   "display_name": "eda_venv",
   "language": "python",
   "name": "python3"
  },
  "language_info": {
   "codemirror_mode": {
    "name": "ipython",
    "version": 3
   },
   "file_extension": ".py",
   "mimetype": "text/x-python",
   "name": "python",
   "nbconvert_exporter": "python",
   "pygments_lexer": "ipython3",
   "version": "3.10.12"
  }
 },
 "nbformat": 4,
 "nbformat_minor": 2
}
