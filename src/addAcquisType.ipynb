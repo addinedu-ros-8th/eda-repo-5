{
 "cells": [
  {
   "cell_type": "code",
   "execution_count": 9,
   "metadata": {},
   "outputs": [],
   "source": [
    "import pandas as pd\n",
    "import mysql.connector\n",
    "\n",
    "conn = mysql.connector.connect(\n",
    "    host = \" database-2.c3iym8yog7ht.ap-northeast-2.rds.amazonaws.com\",\n",
    "    port = 3306,\n",
    "    user = \"pethub\",\n",
    "    password = \"addinedu5\",\n",
    "    database = \"pethub\"\n",
    ")"
   ]
  },
  {
   "cell_type": "code",
   "execution_count": 10,
   "metadata": {},
   "outputs": [
    {
     "data": {
      "text/plain": [
       "['종로구',\n",
       " '중구',\n",
       " '용산구',\n",
       " '성동구',\n",
       " '광진구',\n",
       " '동대문구',\n",
       " '중랑구',\n",
       " '성북구',\n",
       " '강북구',\n",
       " '도봉구',\n",
       " '노원구',\n",
       " '은평구',\n",
       " '서대문구',\n",
       " '마포구',\n",
       " '양천구',\n",
       " '강서구',\n",
       " '구로구',\n",
       " '금천구',\n",
       " '영등포구',\n",
       " '동작구',\n",
       " '관악구',\n",
       " '서초구',\n",
       " '강남구',\n",
       " '송파구',\n",
       " '강동구']"
      ]
     },
     "execution_count": 10,
     "metadata": {},
     "output_type": "execute_result"
    }
   ],
   "source": [
    "cursor = conn.cursor()\n",
    "cursor.execute(\"SELECT id, region FROM region_list\")\n",
    "result = cursor.fetchall()\n",
    "\n",
    "region_list = []\n",
    "\n",
    "for each in result:\n",
    "    region_list.append(each[1])\n",
    "region_list"
   ]
  },
  {
   "cell_type": "code",
   "execution_count": 11,
   "metadata": {},
   "outputs": [
    {
     "data": {
      "text/html": [
       "<div>\n",
       "<style scoped>\n",
       "    .dataframe tbody tr th:only-of-type {\n",
       "        vertical-align: middle;\n",
       "    }\n",
       "\n",
       "    .dataframe tbody tr th {\n",
       "        vertical-align: top;\n",
       "    }\n",
       "\n",
       "    .dataframe thead th {\n",
       "        text-align: right;\n",
       "    }\n",
       "</style>\n",
       "<table border=\"1\" class=\"dataframe\">\n",
       "  <thead>\n",
       "    <tr style=\"text-align: right;\">\n",
       "      <th></th>\n",
       "      <th>유형</th>\n",
       "      <th>동물판매업소</th>\n",
       "      <th>지인 유상</th>\n",
       "      <th>인터넷</th>\n",
       "      <th>유기동물 입양</th>\n",
       "    </tr>\n",
       "  </thead>\n",
       "  <tbody>\n",
       "    <tr>\n",
       "      <th>0</th>\n",
       "      <td>중구</td>\n",
       "      <td>28.1</td>\n",
       "      <td>62.6</td>\n",
       "      <td>-</td>\n",
       "      <td>7.0</td>\n",
       "    </tr>\n",
       "    <tr>\n",
       "      <th>1</th>\n",
       "      <td>용산구</td>\n",
       "      <td>15.5</td>\n",
       "      <td>52.5</td>\n",
       "      <td>-</td>\n",
       "      <td>32.0</td>\n",
       "    </tr>\n",
       "    <tr>\n",
       "      <th>2</th>\n",
       "      <td>성동구</td>\n",
       "      <td>27.9</td>\n",
       "      <td>65.0</td>\n",
       "      <td>0.8</td>\n",
       "      <td>3.0</td>\n",
       "    </tr>\n",
       "    <tr>\n",
       "      <th>3</th>\n",
       "      <td>광진구</td>\n",
       "      <td>38.5</td>\n",
       "      <td>44.3</td>\n",
       "      <td>0.3</td>\n",
       "      <td>15.1</td>\n",
       "    </tr>\n",
       "    <tr>\n",
       "      <th>4</th>\n",
       "      <td>동대문구</td>\n",
       "      <td>44.3</td>\n",
       "      <td>40.7</td>\n",
       "      <td>6</td>\n",
       "      <td>5.5</td>\n",
       "    </tr>\n",
       "  </tbody>\n",
       "</table>\n",
       "</div>"
      ],
      "text/plain": [
       "     유형  동물판매업소  지인 유상  인터넷  유기동물 입양\n",
       "0    중구    28.1   62.6    -      7.0\n",
       "1   용산구    15.5   52.5    -     32.0\n",
       "2   성동구    27.9   65.0  0.8      3.0\n",
       "3   광진구    38.5   44.3  0.3     15.1\n",
       "4  동대문구    44.3   40.7    6      5.5"
      ]
     },
     "execution_count": 11,
     "metadata": {},
     "output_type": "execute_result"
    }
   ],
   "source": [
    "df = pd.read_csv(\"../data/region_get_pet_type.csv\")\n",
    "df.head()"
   ]
  },
  {
   "cell_type": "code",
   "execution_count": 12,
   "metadata": {},
   "outputs": [
    {
     "data": {
      "text/html": [
       "<div>\n",
       "<style scoped>\n",
       "    .dataframe tbody tr th:only-of-type {\n",
       "        vertical-align: middle;\n",
       "    }\n",
       "\n",
       "    .dataframe tbody tr th {\n",
       "        vertical-align: top;\n",
       "    }\n",
       "\n",
       "    .dataframe thead th {\n",
       "        text-align: right;\n",
       "    }\n",
       "</style>\n",
       "<table border=\"1\" class=\"dataframe\">\n",
       "  <thead>\n",
       "    <tr style=\"text-align: right;\">\n",
       "      <th></th>\n",
       "      <th>유형</th>\n",
       "      <th>동물판매업소</th>\n",
       "      <th>지인 유상</th>\n",
       "      <th>인터넷</th>\n",
       "      <th>유기동물 입양</th>\n",
       "    </tr>\n",
       "  </thead>\n",
       "  <tbody>\n",
       "    <tr>\n",
       "      <th>0</th>\n",
       "      <td>1</td>\n",
       "      <td>28.1</td>\n",
       "      <td>62.6</td>\n",
       "      <td>-</td>\n",
       "      <td>7.0</td>\n",
       "    </tr>\n",
       "    <tr>\n",
       "      <th>1</th>\n",
       "      <td>2</td>\n",
       "      <td>15.5</td>\n",
       "      <td>52.5</td>\n",
       "      <td>-</td>\n",
       "      <td>32.0</td>\n",
       "    </tr>\n",
       "    <tr>\n",
       "      <th>2</th>\n",
       "      <td>3</td>\n",
       "      <td>27.9</td>\n",
       "      <td>65.0</td>\n",
       "      <td>0.8</td>\n",
       "      <td>3.0</td>\n",
       "    </tr>\n",
       "    <tr>\n",
       "      <th>3</th>\n",
       "      <td>4</td>\n",
       "      <td>38.5</td>\n",
       "      <td>44.3</td>\n",
       "      <td>0.3</td>\n",
       "      <td>15.1</td>\n",
       "    </tr>\n",
       "    <tr>\n",
       "      <th>4</th>\n",
       "      <td>5</td>\n",
       "      <td>44.3</td>\n",
       "      <td>40.7</td>\n",
       "      <td>6</td>\n",
       "      <td>5.5</td>\n",
       "    </tr>\n",
       "  </tbody>\n",
       "</table>\n",
       "</div>"
      ],
      "text/plain": [
       "   유형  동물판매업소  지인 유상  인터넷  유기동물 입양\n",
       "0   1    28.1   62.6    -      7.0\n",
       "1   2    15.5   52.5    -     32.0\n",
       "2   3    27.9   65.0  0.8      3.0\n",
       "3   4    38.5   44.3  0.3     15.1\n",
       "4   5    44.3   40.7    6      5.5"
      ]
     },
     "execution_count": 12,
     "metadata": {},
     "output_type": "execute_result"
    }
   ],
   "source": [
    "df[\"유형\"] = [region_list.index(region) for region in df[\"유형\"]]\n",
    "df.head()"
   ]
  },
  {
   "cell_type": "code",
   "execution_count": 13,
   "metadata": {},
   "outputs": [
    {
     "name": "stdout",
     "output_type": "stream",
     "text": [
      "(1, 28.1, 62.6, '-', 7.0)\n",
      "(2, 15.5, 52.5, '-', 32.0)\n",
      "(3, 27.9, 65.0, '0.8', 3.0)\n",
      "(4, 38.5, 44.3, '0.3', 15.1)\n",
      "(5, 44.3, 40.7, '6', 5.5)\n",
      "(6, 16.1, 62.400000000000006, '6.3', 14.0)\n",
      "(7, 38.3, 57.7, '0.6', 3.4)\n",
      "(8, 26.4, 54.0, '0.3', 15.5)\n",
      "(9, 20.6, 73.9, '-', 5.5)\n",
      "(10, 23.8, 57.5, '0.6', 15.7)\n",
      "(11, 28.5, 55.9, '0.8', 13.7)\n",
      "(12, 19.1, 62.0, '-', 14.4)\n",
      "(13, 36.1, 48.1, '4.3', 8.2)\n",
      "(14, 24.5, 61.3, '6.5', 7.7)\n",
      "(15, 31.4, 50.0, '1.9', 6.1)\n",
      "(16, 11.8, 65.9, '2.1', 13.8)\n",
      "(17, 12.2, 79.80000000000001, '-', 8.1)\n",
      "(18, 14.8, 66.80000000000001, '5.8', 11.2)\n",
      "(19, 18.3, 69.30000000000001, '2.2', 6.2)\n",
      "(20, 21.7, 52.8, '4.2', 20.9)\n",
      "(21, 21.5, 62.2, '0.2', 5.3)\n",
      "(22, 26.2, 54.5, '0.2', 18.6)\n",
      "(23, 13.2, 60.8, '0.7', 22.1)\n",
      "(24, 28.9, 59.4, '0.6', 10.2)\n"
     ]
    }
   ],
   "source": [
    "sql = \"INSERT INTO region_pet_acquis (region_id, sale, friend, internet, abandoned) VALUES (%s, %s, %s, %s, %s)\"\n",
    "for i, row in df.iterrows():\n",
    "    cursor.execute(sql, tuple(row))\n",
    "    print(tuple(row))\n",
    "    conn.commit()\n"
   ]
  },
  {
   "cell_type": "code",
   "execution_count": 14,
   "metadata": {},
   "outputs": [],
   "source": [
    "conn.close()"
   ]
  }
 ],
 "metadata": {
  "kernelspec": {
   "display_name": "eda_venv",
   "language": "python",
   "name": "python3"
  },
  "language_info": {
   "codemirror_mode": {
    "name": "ipython",
    "version": 3
   },
   "file_extension": ".py",
   "mimetype": "text/x-python",
   "name": "python",
   "nbconvert_exporter": "python",
   "pygments_lexer": "ipython3",
   "version": "3.10.12"
  }
 },
 "nbformat": 4,
 "nbformat_minor": 2
}
