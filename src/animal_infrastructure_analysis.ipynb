{
 "cells": [
  {
   "cell_type": "code",
   "execution_count": null,
   "metadata": {},
   "outputs": [],
   "source": [
    "import pandas as pd\n",
    "import matplotlib.pyplot as plt\n",
    "import koreanize_matplotlib\n",
    "\n",
    "\n",
    "# Get the list of unique categories for iteration\n",
    "categories = category_counts_by_district_corrected['카테고리'].unique()\n",
    "\n",
    "# Create a bar plot for each category\n",
    "for category in categories:\n",
    "    category_data = category_counts_by_district_corrected[\n",
    "        category_counts_by_district_corrected['카테고리'] == category\n",
    "    ]\n",
    "    \n",
    "    plt.figure(figsize=(10, 6))\n",
    "    plt.bar(category_data['District'], category_data['Count'])\n",
    "    plt.title(f'{category}')\n",
    "    plt.xlabel('지역별')\n",
    "    plt.ylabel('갯수')\n",
    "    plt.xticks(rotation=45, ha='right')\n",
    "    plt.tight_layout()\n",
    "    plt.show()"
   ]
  }
 ],
 "metadata": {
  "kernelspec": {
   "display_name": "eda_venv",
   "language": "python",
   "name": "python3"
  },
  "language_info": {
   "name": "python",
   "version": "3.10.12"
  }
 },
 "nbformat": 4,
 "nbformat_minor": 2
}
