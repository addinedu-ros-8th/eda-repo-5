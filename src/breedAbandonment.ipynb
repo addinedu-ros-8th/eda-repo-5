{
 "cells": [
  {
   "cell_type": "markdown",
   "metadata": {},
   "source": [
    "### 3대 지랄견 유기율 데이터 분석\n",
    "- 가설: 3대 지랄견으로 불리는 코카 스패니얼, 비글, 슈나우저는 유기율이 높을까?"
   ]
  },
  {
   "cell_type": "markdown",
   "metadata": {},
   "source": [
    "- 사용 라이브러리 로드"
   ]
  },
  {
   "cell_type": "code",
   "execution_count": 1,
   "metadata": {},
   "outputs": [],
   "source": [
    "from database.Database import Database\n",
    "import pandas as pd\n",
    "import matplotlib.pyplot as plt\n",
    "import koreanize_matplotlib\n",
    "import folium\n",
    "import json"
   ]
  },
  {
   "cell_type": "code",
   "execution_count": 2,
   "metadata": {},
   "outputs": [],
   "source": [
    "db = Database(\n",
    "    host = \"database-2.c3iym8yog7ht.ap-northeast-2.rds.amazonaws.com\",\n",
    "    port = 3306,\n",
    "    user = \"pethub\",\n",
    "    password = \"addinedu5\",\n",
    "    database = \"pethub\"\n",
    ")"
   ]
  },
  {
   "cell_type": "code",
   "execution_count": 5,
   "metadata": {},
   "outputs": [
    {
     "data": {
      "text/html": [
       "<div>\n",
       "<style scoped>\n",
       "    .dataframe tbody tr th:only-of-type {\n",
       "        vertical-align: middle;\n",
       "    }\n",
       "\n",
       "    .dataframe tbody tr th {\n",
       "        vertical-align: top;\n",
       "    }\n",
       "\n",
       "    .dataframe thead th {\n",
       "        text-align: right;\n",
       "    }\n",
       "</style>\n",
       "<table border=\"1\" class=\"dataframe\">\n",
       "  <thead>\n",
       "    <tr style=\"text-align: right;\">\n",
       "      <th></th>\n",
       "      <th>region</th>\n",
       "      <th>breed</th>\n",
       "      <th>pet_count</th>\n",
       "    </tr>\n",
       "  </thead>\n",
       "  <tbody>\n",
       "    <tr>\n",
       "      <th>0</th>\n",
       "      <td>종로구</td>\n",
       "      <td>골든 리트리버</td>\n",
       "      <td>156</td>\n",
       "    </tr>\n",
       "    <tr>\n",
       "      <th>1</th>\n",
       "      <td>종로구</td>\n",
       "      <td>그레이 하운드</td>\n",
       "      <td>5</td>\n",
       "    </tr>\n",
       "    <tr>\n",
       "      <th>2</th>\n",
       "      <td>종로구</td>\n",
       "      <td>달마시안</td>\n",
       "      <td>3</td>\n",
       "    </tr>\n",
       "    <tr>\n",
       "      <th>3</th>\n",
       "      <td>종로구</td>\n",
       "      <td>도베르만</td>\n",
       "      <td>21</td>\n",
       "    </tr>\n",
       "    <tr>\n",
       "      <th>4</th>\n",
       "      <td>종로구</td>\n",
       "      <td>라브라도 리트리버</td>\n",
       "      <td>136</td>\n",
       "    </tr>\n",
       "  </tbody>\n",
       "</table>\n",
       "</div>"
      ],
      "text/plain": [
       "  region      breed  pet_count\n",
       "0    종로구    골든 리트리버        156\n",
       "1    종로구    그레이 하운드          5\n",
       "2    종로구       달마시안          3\n",
       "3    종로구       도베르만         21\n",
       "4    종로구  라브라도 리트리버        136"
      ]
     },
     "execution_count": 5,
     "metadata": {},
     "output_type": "execute_result"
    }
   ],
   "source": [
    "sql =   \"\"\"\n",
    "        SELECT l.region, p.breed, r.count\n",
    "        FROM region_pet_regist r\n",
    "        LEFT JOIN region_list l ON r.region_id = l.id\n",
    "        LEFT JOIN pet_type p ON r.pet_type_id = p.id;\n",
    "        \"\"\"\n",
    "result = db.selectData(sql)\n",
    "\n",
    "regist_df = pd.DataFrame(result)\n",
    "regist_df.columns = [\"region\", \"breed\", \"pet_count\"]\n",
    "regist_df.head()"
   ]
  },
  {
   "cell_type": "code",
   "execution_count": null,
   "metadata": {},
   "outputs": [],
   "source": []
  }
 ],
 "metadata": {
  "kernelspec": {
   "display_name": "eda_venv",
   "language": "python",
   "name": "python3"
  },
  "language_info": {
   "codemirror_mode": {
    "name": "ipython",
    "version": 3
   },
   "file_extension": ".py",
   "mimetype": "text/x-python",
   "name": "python",
   "nbconvert_exporter": "python",
   "pygments_lexer": "ipython3",
   "version": "3.10.12"
  }
 },
 "nbformat": 4,
 "nbformat_minor": 2
}
