{
 "cells": [
  {
   "cell_type": "code",
   "execution_count": 29,
   "metadata": {},
   "outputs": [],
   "source": [
    "import pandas as pd\n",
    "import numpy as np\n",
    "from sklearn.utils import resample\n",
    "from sklearn.model_selection import train_test_split\n",
    "import urllib.request"
   ]
  },
  {
   "cell_type": "code",
   "execution_count": 6,
   "metadata": {},
   "outputs": [
    {
     "data": {
      "text/html": [
       "<div>\n",
       "<style scoped>\n",
       "    .dataframe tbody tr th:only-of-type {\n",
       "        vertical-align: middle;\n",
       "    }\n",
       "\n",
       "    .dataframe tbody tr th {\n",
       "        vertical-align: top;\n",
       "    }\n",
       "\n",
       "    .dataframe thead th {\n",
       "        text-align: right;\n",
       "    }\n",
       "</style>\n",
       "<table border=\"1\" class=\"dataframe\">\n",
       "  <thead>\n",
       "    <tr style=\"text-align: right;\">\n",
       "      <th></th>\n",
       "      <th>Unnamed: 0</th>\n",
       "      <th>평점</th>\n",
       "      <th>리뷰</th>\n",
       "    </tr>\n",
       "  </thead>\n",
       "  <tbody>\n",
       "    <tr>\n",
       "      <th>0</th>\n",
       "      <td>0</td>\n",
       "      <td>5</td>\n",
       "      <td>신당동도  이런 분위기좋고\\n핫 한곳이 있었다니..ㅋㅋ\\n사장님 부부도 너무친절하시...</td>\n",
       "    </tr>\n",
       "    <tr>\n",
       "      <th>1</th>\n",
       "      <td>1</td>\n",
       "      <td>4</td>\n",
       "      <td>분위기 좋고, 와인 가격도 합리적이네요</td>\n",
       "    </tr>\n",
       "    <tr>\n",
       "      <th>2</th>\n",
       "      <td>2</td>\n",
       "      <td>5</td>\n",
       "      <td>NaN</td>\n",
       "    </tr>\n",
       "    <tr>\n",
       "      <th>3</th>\n",
       "      <td>3</td>\n",
       "      <td>3</td>\n",
       "      <td>NaN</td>\n",
       "    </tr>\n",
       "    <tr>\n",
       "      <th>4</th>\n",
       "      <td>4</td>\n",
       "      <td>5</td>\n",
       "      <td>NaN</td>\n",
       "    </tr>\n",
       "  </tbody>\n",
       "</table>\n",
       "</div>"
      ],
      "text/plain": [
       "   Unnamed: 0  평점                                                 리뷰\n",
       "0           0   5  신당동도  이런 분위기좋고\\n핫 한곳이 있었다니..ㅋㅋ\\n사장님 부부도 너무친절하시...\n",
       "1           1   4                              분위기 좋고, 와인 가격도 합리적이네요\n",
       "2           2   5                                                NaN\n",
       "3           3   3                                                NaN\n",
       "4           4   5                                                NaN"
      ]
     },
     "execution_count": 6,
     "metadata": {},
     "output_type": "execute_result"
    }
   ],
   "source": [
    "data = pd.read_csv(\"../data/google_reviews.csv\")\n",
    "data.head()"
   ]
  },
  {
   "cell_type": "code",
   "execution_count": 7,
   "metadata": {},
   "outputs": [
    {
     "data": {
      "text/html": [
       "<div>\n",
       "<style scoped>\n",
       "    .dataframe tbody tr th:only-of-type {\n",
       "        vertical-align: middle;\n",
       "    }\n",
       "\n",
       "    .dataframe tbody tr th {\n",
       "        vertical-align: top;\n",
       "    }\n",
       "\n",
       "    .dataframe thead th {\n",
       "        text-align: right;\n",
       "    }\n",
       "</style>\n",
       "<table border=\"1\" class=\"dataframe\">\n",
       "  <thead>\n",
       "    <tr style=\"text-align: right;\">\n",
       "      <th></th>\n",
       "      <th>평점</th>\n",
       "      <th>리뷰</th>\n",
       "    </tr>\n",
       "  </thead>\n",
       "  <tbody>\n",
       "    <tr>\n",
       "      <th>0</th>\n",
       "      <td>5</td>\n",
       "      <td>신당동도  이런 분위기좋고\\n핫 한곳이 있었다니..ㅋㅋ\\n사장님 부부도 너무친절하시...</td>\n",
       "    </tr>\n",
       "    <tr>\n",
       "      <th>1</th>\n",
       "      <td>4</td>\n",
       "      <td>분위기 좋고, 와인 가격도 합리적이네요</td>\n",
       "    </tr>\n",
       "    <tr>\n",
       "      <th>2</th>\n",
       "      <td>5</td>\n",
       "      <td>NaN</td>\n",
       "    </tr>\n",
       "    <tr>\n",
       "      <th>3</th>\n",
       "      <td>3</td>\n",
       "      <td>NaN</td>\n",
       "    </tr>\n",
       "    <tr>\n",
       "      <th>4</th>\n",
       "      <td>5</td>\n",
       "      <td>NaN</td>\n",
       "    </tr>\n",
       "  </tbody>\n",
       "</table>\n",
       "</div>"
      ],
      "text/plain": [
       "   평점                                                 리뷰\n",
       "0   5  신당동도  이런 분위기좋고\\n핫 한곳이 있었다니..ㅋㅋ\\n사장님 부부도 너무친절하시...\n",
       "1   4                              분위기 좋고, 와인 가격도 합리적이네요\n",
       "2   5                                                NaN\n",
       "3   3                                                NaN\n",
       "4   5                                                NaN"
      ]
     },
     "execution_count": 7,
     "metadata": {},
     "output_type": "execute_result"
    }
   ],
   "source": [
    "data.drop([\"Unnamed: 0\"], axis=1, inplace=True)\n",
    "data.head()"
   ]
  },
  {
   "cell_type": "code",
   "execution_count": 8,
   "metadata": {},
   "outputs": [
    {
     "data": {
      "text/html": [
       "<div>\n",
       "<style scoped>\n",
       "    .dataframe tbody tr th:only-of-type {\n",
       "        vertical-align: middle;\n",
       "    }\n",
       "\n",
       "    .dataframe tbody tr th {\n",
       "        vertical-align: top;\n",
       "    }\n",
       "\n",
       "    .dataframe thead th {\n",
       "        text-align: right;\n",
       "    }\n",
       "</style>\n",
       "<table border=\"1\" class=\"dataframe\">\n",
       "  <thead>\n",
       "    <tr style=\"text-align: right;\">\n",
       "      <th></th>\n",
       "      <th>평점</th>\n",
       "      <th>리뷰</th>\n",
       "      <th>label</th>\n",
       "    </tr>\n",
       "  </thead>\n",
       "  <tbody>\n",
       "    <tr>\n",
       "      <th>0</th>\n",
       "      <td>5</td>\n",
       "      <td>신당동도  이런 분위기좋고\\n핫 한곳이 있었다니..ㅋㅋ\\n사장님 부부도 너무친절하시...</td>\n",
       "      <td>1</td>\n",
       "    </tr>\n",
       "    <tr>\n",
       "      <th>1</th>\n",
       "      <td>4</td>\n",
       "      <td>분위기 좋고, 와인 가격도 합리적이네요</td>\n",
       "      <td>1</td>\n",
       "    </tr>\n",
       "    <tr>\n",
       "      <th>2</th>\n",
       "      <td>5</td>\n",
       "      <td>NaN</td>\n",
       "      <td>1</td>\n",
       "    </tr>\n",
       "    <tr>\n",
       "      <th>3</th>\n",
       "      <td>3</td>\n",
       "      <td>NaN</td>\n",
       "      <td>0</td>\n",
       "    </tr>\n",
       "    <tr>\n",
       "      <th>4</th>\n",
       "      <td>5</td>\n",
       "      <td>NaN</td>\n",
       "      <td>1</td>\n",
       "    </tr>\n",
       "  </tbody>\n",
       "</table>\n",
       "</div>"
      ],
      "text/plain": [
       "   평점                                                 리뷰  label\n",
       "0   5  신당동도  이런 분위기좋고\\n핫 한곳이 있었다니..ㅋㅋ\\n사장님 부부도 너무친절하시...      1\n",
       "1   4                              분위기 좋고, 와인 가격도 합리적이네요      1\n",
       "2   5                                                NaN      1\n",
       "3   3                                                NaN      0\n",
       "4   5                                                NaN      1"
      ]
     },
     "execution_count": 8,
     "metadata": {},
     "output_type": "execute_result"
    }
   ],
   "source": [
    "data[\"label\"] = (data[\"평점\"] > 3).astype(int)\n",
    "data.head()"
   ]
  },
  {
   "cell_type": "code",
   "execution_count": 9,
   "metadata": {},
   "outputs": [
    {
     "data": {
      "text/html": [
       "<div>\n",
       "<style scoped>\n",
       "    .dataframe tbody tr th:only-of-type {\n",
       "        vertical-align: middle;\n",
       "    }\n",
       "\n",
       "    .dataframe tbody tr th {\n",
       "        vertical-align: top;\n",
       "    }\n",
       "\n",
       "    .dataframe thead th {\n",
       "        text-align: right;\n",
       "    }\n",
       "</style>\n",
       "<table border=\"1\" class=\"dataframe\">\n",
       "  <thead>\n",
       "    <tr style=\"text-align: right;\">\n",
       "      <th></th>\n",
       "      <th>평점</th>\n",
       "      <th>리뷰</th>\n",
       "      <th>label</th>\n",
       "    </tr>\n",
       "  </thead>\n",
       "  <tbody>\n",
       "    <tr>\n",
       "      <th>0</th>\n",
       "      <td>5</td>\n",
       "      <td>신당동도  이런 분위기좋고\\n핫 한곳이 있었다니..ㅋㅋ\\n사장님 부부도 너무친절하시...</td>\n",
       "      <td>1</td>\n",
       "    </tr>\n",
       "    <tr>\n",
       "      <th>1</th>\n",
       "      <td>4</td>\n",
       "      <td>분위기 좋고, 와인 가격도 합리적이네요</td>\n",
       "      <td>1</td>\n",
       "    </tr>\n",
       "    <tr>\n",
       "      <th>6</th>\n",
       "      <td>3</td>\n",
       "      <td>24시간 이라 주말에 방문하기 편리함\\n첫 예방접종인데 딱 접종만 하고 끝.\\n기본...</td>\n",
       "      <td>0</td>\n",
       "    </tr>\n",
       "    <tr>\n",
       "      <th>7</th>\n",
       "      <td>4</td>\n",
       "      <td>24시라 좋아요. 새벽에 강아지가 출혈이 있어서 깜짝 놀랐는데 선생님이 친절하게 설...</td>\n",
       "      <td>1</td>\n",
       "    </tr>\n",
       "    <tr>\n",
       "      <th>8</th>\n",
       "      <td>5</td>\n",
       "      <td>푸들12년차 작년10월~13년차 지금까지 용혈성빈혈로 수혈2회에 큰일을 치뤘는데.....</td>\n",
       "      <td>1</td>\n",
       "    </tr>\n",
       "  </tbody>\n",
       "</table>\n",
       "</div>"
      ],
      "text/plain": [
       "   평점                                                 리뷰  label\n",
       "0   5  신당동도  이런 분위기좋고\\n핫 한곳이 있었다니..ㅋㅋ\\n사장님 부부도 너무친절하시...      1\n",
       "1   4                              분위기 좋고, 와인 가격도 합리적이네요      1\n",
       "6   3  24시간 이라 주말에 방문하기 편리함\\n첫 예방접종인데 딱 접종만 하고 끝.\\n기본...      0\n",
       "7   4  24시라 좋아요. 새벽에 강아지가 출혈이 있어서 깜짝 놀랐는데 선생님이 친절하게 설...      1\n",
       "8   5  푸들12년차 작년10월~13년차 지금까지 용혈성빈혈로 수혈2회에 큰일을 치뤘는데.....      1"
      ]
     },
     "execution_count": 9,
     "metadata": {},
     "output_type": "execute_result"
    }
   ],
   "source": [
    "data.dropna(inplace=True)\n",
    "data.head()"
   ]
  },
  {
   "cell_type": "code",
   "execution_count": 10,
   "metadata": {},
   "outputs": [
    {
     "data": {
      "text/plain": [
       "<Axes: xlabel='label'>"
      ]
     },
     "execution_count": 10,
     "metadata": {},
     "output_type": "execute_result"
    },
    {
     "data": {
      "image/png": "[encoded data removed]",
      "text/plain": [
       "<Figure size 640x480 with 1 Axes>"
      ]
     },
     "metadata": {},
     "output_type": "display_data"
    }
   ],
   "source": [
    "data[\"label\"].value_counts().plot(kind=\"bar\")"
   ]
  },
  {
   "cell_type": "code",
   "execution_count": 11,
   "metadata": {},
   "outputs": [
    {
     "data": {
      "text/html": [
       "<div>\n",
       "<style scoped>\n",
       "    .dataframe tbody tr th:only-of-type {\n",
       "        vertical-align: middle;\n",
       "    }\n",
       "\n",
       "    .dataframe tbody tr th {\n",
       "        vertical-align: top;\n",
       "    }\n",
       "\n",
       "    .dataframe thead th {\n",
       "        text-align: right;\n",
       "    }\n",
       "</style>\n",
       "<table border=\"1\" class=\"dataframe\">\n",
       "  <thead>\n",
       "    <tr style=\"text-align: right;\">\n",
       "      <th></th>\n",
       "      <th>평점</th>\n",
       "      <th>리뷰</th>\n",
       "      <th>label</th>\n",
       "    </tr>\n",
       "  </thead>\n",
       "  <tbody>\n",
       "    <tr>\n",
       "      <th>0</th>\n",
       "      <td>5</td>\n",
       "      <td>다른동물병원 2곳을 거치고 고양이전문병원인 닥터캣을 가게되었어요!\\n왜 더빨리 가지...</td>\n",
       "      <td>1</td>\n",
       "    </tr>\n",
       "    <tr>\n",
       "      <th>1</th>\n",
       "      <td>1</td>\n",
       "      <td>택배 전화번호나 똑바로 해라. 엉뚱한 사람 짜증나게 하지말고.\\n윤미현 정신차려.</td>\n",
       "      <td>0</td>\n",
       "    </tr>\n",
       "    <tr>\n",
       "      <th>2</th>\n",
       "      <td>1</td>\n",
       "      <td>Gave wrong diagnosis for my cat. Kept saying n...</td>\n",
       "      <td>0</td>\n",
       "    </tr>\n",
       "    <tr>\n",
       "      <th>3</th>\n",
       "      <td>5</td>\n",
       "      <td>갈 때마다 한결같이 친절하시고 진료도 정말 꼼꼼히 봐주셔요. 집에서 좀 먼 거리이지...</td>\n",
       "      <td>1</td>\n",
       "    </tr>\n",
       "    <tr>\n",
       "      <th>4</th>\n",
       "      <td>5</td>\n",
       "      <td>고양이 있음^^</td>\n",
       "      <td>1</td>\n",
       "    </tr>\n",
       "  </tbody>\n",
       "</table>\n",
       "</div>"
      ],
      "text/plain": [
       "   평점                                                 리뷰  label\n",
       "0   5  다른동물병원 2곳을 거치고 고양이전문병원인 닥터캣을 가게되었어요!\\n왜 더빨리 가지...      1\n",
       "1   1      택배 전화번호나 똑바로 해라. 엉뚱한 사람 짜증나게 하지말고.\\n윤미현 정신차려.      0\n",
       "2   1  Gave wrong diagnosis for my cat. Kept saying n...      0\n",
       "3   5  갈 때마다 한결같이 친절하시고 진료도 정말 꼼꼼히 봐주셔요. 집에서 좀 먼 거리이지...      1\n",
       "4   5                                           고양이 있음^^      1"
      ]
     },
     "execution_count": 11,
     "metadata": {},
     "output_type": "execute_result"
    }
   ],
   "source": [
    "negative_upsampled = resample(data[data['label'] == 0], replace=True, n_samples=1750, random_state=42)\n",
    "google_data = pd.concat([data[data['label'] == 1], negative_upsampled])\n",
    "google_data = google_data.sample(frac=1, random_state=42).reset_index(drop=True)\n",
    "google_data.head()"
   ]
  },
  {
   "cell_type": "code",
   "execution_count": 12,
   "metadata": {},
   "outputs": [
    {
     "data": {
      "text/plain": [
       "<Axes: xlabel='label'>"
      ]
     },
     "execution_count": 12,
     "metadata": {},
     "output_type": "execute_result"
    },
    {
     "data": {
      "image/png": "[encoded data removed]",
      "text/plain": [
       "<Figure size 640x480 with 1 Axes>"
      ]
     },
     "metadata": {},
     "output_type": "display_data"
    }
   ],
   "source": [
    "google_data[\"label\"].value_counts().plot(kind=\"bar\")"
   ]
  },
  {
   "cell_type": "code",
   "execution_count": 13,
   "metadata": {},
   "outputs": [
    {
     "data": {
      "text/html": [
       "<div>\n",
       "<style scoped>\n",
       "    .dataframe tbody tr th:only-of-type {\n",
       "        vertical-align: middle;\n",
       "    }\n",
       "\n",
       "    .dataframe tbody tr th {\n",
       "        vertical-align: top;\n",
       "    }\n",
       "\n",
       "    .dataframe thead th {\n",
       "        text-align: right;\n",
       "    }\n",
       "</style>\n",
       "<table border=\"1\" class=\"dataframe\">\n",
       "  <thead>\n",
       "    <tr style=\"text-align: right;\">\n",
       "      <th></th>\n",
       "      <th>document</th>\n",
       "      <th>label</th>\n",
       "    </tr>\n",
       "  </thead>\n",
       "  <tbody>\n",
       "    <tr>\n",
       "      <th>0</th>\n",
       "      <td>다른동물병원 2곳을 거치고 고양이전문병원인 닥터캣을 가게되었어요!\\n왜 더빨리 가지...</td>\n",
       "      <td>1</td>\n",
       "    </tr>\n",
       "    <tr>\n",
       "      <th>1</th>\n",
       "      <td>택배 전화번호나 똑바로 해라. 엉뚱한 사람 짜증나게 하지말고.\\n윤미현 정신차려.</td>\n",
       "      <td>0</td>\n",
       "    </tr>\n",
       "    <tr>\n",
       "      <th>2</th>\n",
       "      <td>Gave wrong diagnosis for my cat. Kept saying n...</td>\n",
       "      <td>0</td>\n",
       "    </tr>\n",
       "    <tr>\n",
       "      <th>3</th>\n",
       "      <td>갈 때마다 한결같이 친절하시고 진료도 정말 꼼꼼히 봐주셔요. 집에서 좀 먼 거리이지...</td>\n",
       "      <td>1</td>\n",
       "    </tr>\n",
       "    <tr>\n",
       "      <th>4</th>\n",
       "      <td>고양이 있음^^</td>\n",
       "      <td>1</td>\n",
       "    </tr>\n",
       "  </tbody>\n",
       "</table>\n",
       "</div>"
      ],
      "text/plain": [
       "                                            document  label\n",
       "0  다른동물병원 2곳을 거치고 고양이전문병원인 닥터캣을 가게되었어요!\\n왜 더빨리 가지...      1\n",
       "1      택배 전화번호나 똑바로 해라. 엉뚱한 사람 짜증나게 하지말고.\\n윤미현 정신차려.      0\n",
       "2  Gave wrong diagnosis for my cat. Kept saying n...      0\n",
       "3  갈 때마다 한결같이 친절하시고 진료도 정말 꼼꼼히 봐주셔요. 집에서 좀 먼 거리이지...      1\n",
       "4                                           고양이 있음^^      1"
      ]
     },
     "execution_count": 13,
     "metadata": {},
     "output_type": "execute_result"
    }
   ],
   "source": [
    "google_data.rename(columns={\"리뷰\": \"document\"}, inplace=True)\n",
    "google_data.drop([\"평점\"], axis=1, inplace=True)\n",
    "google_data.head()"
   ]
  },
  {
   "cell_type": "code",
   "execution_count": 15,
   "metadata": {},
   "outputs": [
    {
     "data": {
      "text/html": [
       "<div>\n",
       "<style scoped>\n",
       "    .dataframe tbody tr th:only-of-type {\n",
       "        vertical-align: middle;\n",
       "    }\n",
       "\n",
       "    .dataframe tbody tr th {\n",
       "        vertical-align: top;\n",
       "    }\n",
       "\n",
       "    .dataframe thead th {\n",
       "        text-align: right;\n",
       "    }\n",
       "</style>\n",
       "<table border=\"1\" class=\"dataframe\">\n",
       "  <thead>\n",
       "    <tr style=\"text-align: right;\">\n",
       "      <th></th>\n",
       "      <th>store_name</th>\n",
       "      <th>star</th>\n",
       "      <th>review</th>\n",
       "    </tr>\n",
       "  </thead>\n",
       "  <tbody>\n",
       "    <tr>\n",
       "      <th>0</th>\n",
       "      <td>24시 SNC 동물메디컬센터</td>\n",
       "      <td>5</td>\n",
       "      <td>중성화부터 방광염 수술 그리고 염증까지 믿음직스럽게 진료해주시고 처방해주세요 매번 ...</td>\n",
       "    </tr>\n",
       "    <tr>\n",
       "      <th>1</th>\n",
       "      <td>24시 SNC 동물메디컬센터</td>\n",
       "      <td>5</td>\n",
       "      <td>새벽에 강아지가 마스크팩을 먹어서 급하게 이곳저곳 전화해봤지만 유일하게 끝까지 통화...</td>\n",
       "    </tr>\n",
       "    <tr>\n",
       "      <th>2</th>\n",
       "      <td>24시 SNC 동물메디컬센터</td>\n",
       "      <td>5</td>\n",
       "      <td>검진겸 다니는곳이에요 새벽내내 구토해서 병원을 찾아갔어요ㅠ집 근처에 24시 하는 병...</td>\n",
       "    </tr>\n",
       "    <tr>\n",
       "      <th>3</th>\n",
       "      <td>24시 SNC 동물메디컬센터</td>\n",
       "      <td>5</td>\n",
       "      <td>설사랑 혈변 때문에 계속 방문하고 있어요  친절하고 자세하게 설명해주시고 제가 집사...</td>\n",
       "    </tr>\n",
       "    <tr>\n",
       "      <th>4</th>\n",
       "      <td>24시 SNC 동물메디컬센터</td>\n",
       "      <td>5</td>\n",
       "      <td>고양이 신부전 때문에 주기적으로 방문하는데 시설도 깔끔하고 무엇보다 고양이를 잘 봐...</td>\n",
       "    </tr>\n",
       "  </tbody>\n",
       "</table>\n",
       "</div>"
      ],
      "text/plain": [
       "        store_name  star                                             review\n",
       "0  24시 SNC 동물메디컬센터     5  중성화부터 방광염 수술 그리고 염증까지 믿음직스럽게 진료해주시고 처방해주세요 매번 ...\n",
       "1  24시 SNC 동물메디컬센터     5  새벽에 강아지가 마스크팩을 먹어서 급하게 이곳저곳 전화해봤지만 유일하게 끝까지 통화...\n",
       "2  24시 SNC 동물메디컬센터     5  검진겸 다니는곳이에요 새벽내내 구토해서 병원을 찾아갔어요ㅠ집 근처에 24시 하는 병...\n",
       "3  24시 SNC 동물메디컬센터     5  설사랑 혈변 때문에 계속 방문하고 있어요  친절하고 자세하게 설명해주시고 제가 집사...\n",
       "4  24시 SNC 동물메디컬센터     5  고양이 신부전 때문에 주기적으로 방문하는데 시설도 깔끔하고 무엇보다 고양이를 잘 봐..."
      ]
     },
     "execution_count": 15,
     "metadata": {},
     "output_type": "execute_result"
    }
   ],
   "source": [
    "data = pd.read_csv(\"../data/kakao_reviews.csv\")\n",
    "data.head()"
   ]
  },
  {
   "cell_type": "code",
   "execution_count": 16,
   "metadata": {},
   "outputs": [
    {
     "data": {
      "text/html": [
       "<div>\n",
       "<style scoped>\n",
       "    .dataframe tbody tr th:only-of-type {\n",
       "        vertical-align: middle;\n",
       "    }\n",
       "\n",
       "    .dataframe tbody tr th {\n",
       "        vertical-align: top;\n",
       "    }\n",
       "\n",
       "    .dataframe thead th {\n",
       "        text-align: right;\n",
       "    }\n",
       "</style>\n",
       "<table border=\"1\" class=\"dataframe\">\n",
       "  <thead>\n",
       "    <tr style=\"text-align: right;\">\n",
       "      <th></th>\n",
       "      <th>store_name</th>\n",
       "      <th>star</th>\n",
       "      <th>review</th>\n",
       "      <th>label</th>\n",
       "    </tr>\n",
       "  </thead>\n",
       "  <tbody>\n",
       "    <tr>\n",
       "      <th>0</th>\n",
       "      <td>24시 SNC 동물메디컬센터</td>\n",
       "      <td>5</td>\n",
       "      <td>중성화부터 방광염 수술 그리고 염증까지 믿음직스럽게 진료해주시고 처방해주세요 매번 ...</td>\n",
       "      <td>1</td>\n",
       "    </tr>\n",
       "    <tr>\n",
       "      <th>1</th>\n",
       "      <td>24시 SNC 동물메디컬센터</td>\n",
       "      <td>5</td>\n",
       "      <td>새벽에 강아지가 마스크팩을 먹어서 급하게 이곳저곳 전화해봤지만 유일하게 끝까지 통화...</td>\n",
       "      <td>1</td>\n",
       "    </tr>\n",
       "    <tr>\n",
       "      <th>2</th>\n",
       "      <td>24시 SNC 동물메디컬센터</td>\n",
       "      <td>5</td>\n",
       "      <td>검진겸 다니는곳이에요 새벽내내 구토해서 병원을 찾아갔어요ㅠ집 근처에 24시 하는 병...</td>\n",
       "      <td>1</td>\n",
       "    </tr>\n",
       "    <tr>\n",
       "      <th>3</th>\n",
       "      <td>24시 SNC 동물메디컬센터</td>\n",
       "      <td>5</td>\n",
       "      <td>설사랑 혈변 때문에 계속 방문하고 있어요  친절하고 자세하게 설명해주시고 제가 집사...</td>\n",
       "      <td>1</td>\n",
       "    </tr>\n",
       "    <tr>\n",
       "      <th>4</th>\n",
       "      <td>24시 SNC 동물메디컬센터</td>\n",
       "      <td>5</td>\n",
       "      <td>고양이 신부전 때문에 주기적으로 방문하는데 시설도 깔끔하고 무엇보다 고양이를 잘 봐...</td>\n",
       "      <td>1</td>\n",
       "    </tr>\n",
       "  </tbody>\n",
       "</table>\n",
       "</div>"
      ],
      "text/plain": [
       "        store_name  star                                             review  \\\n",
       "0  24시 SNC 동물메디컬센터     5  중성화부터 방광염 수술 그리고 염증까지 믿음직스럽게 진료해주시고 처방해주세요 매번 ...   \n",
       "1  24시 SNC 동물메디컬센터     5  새벽에 강아지가 마스크팩을 먹어서 급하게 이곳저곳 전화해봤지만 유일하게 끝까지 통화...   \n",
       "2  24시 SNC 동물메디컬센터     5  검진겸 다니는곳이에요 새벽내내 구토해서 병원을 찾아갔어요ㅠ집 근처에 24시 하는 병...   \n",
       "3  24시 SNC 동물메디컬센터     5  설사랑 혈변 때문에 계속 방문하고 있어요  친절하고 자세하게 설명해주시고 제가 집사...   \n",
       "4  24시 SNC 동물메디컬센터     5  고양이 신부전 때문에 주기적으로 방문하는데 시설도 깔끔하고 무엇보다 고양이를 잘 봐...   \n",
       "\n",
       "   label  \n",
       "0      1  \n",
       "1      1  \n",
       "2      1  \n",
       "3      1  \n",
       "4      1  "
      ]
     },
     "execution_count": 16,
     "metadata": {},
     "output_type": "execute_result"
    }
   ],
   "source": [
    "data[\"label\"] = (data[\"star\"] > 3).astype(int)\n",
    "data.head()"
   ]
  },
  {
   "cell_type": "code",
   "execution_count": 17,
   "metadata": {},
   "outputs": [
    {
     "data": {
      "text/html": [
       "<div>\n",
       "<style scoped>\n",
       "    .dataframe tbody tr th:only-of-type {\n",
       "        vertical-align: middle;\n",
       "    }\n",
       "\n",
       "    .dataframe tbody tr th {\n",
       "        vertical-align: top;\n",
       "    }\n",
       "\n",
       "    .dataframe thead th {\n",
       "        text-align: right;\n",
       "    }\n",
       "</style>\n",
       "<table border=\"1\" class=\"dataframe\">\n",
       "  <thead>\n",
       "    <tr style=\"text-align: right;\">\n",
       "      <th></th>\n",
       "      <th>store_name</th>\n",
       "      <th>star</th>\n",
       "      <th>review</th>\n",
       "      <th>label</th>\n",
       "    </tr>\n",
       "  </thead>\n",
       "  <tbody>\n",
       "    <tr>\n",
       "      <th>0</th>\n",
       "      <td>24시 SNC 동물메디컬센터</td>\n",
       "      <td>5</td>\n",
       "      <td>중성화부터 방광염 수술 그리고 염증까지 믿음직스럽게 진료해주시고 처방해주세요 매번 ...</td>\n",
       "      <td>1</td>\n",
       "    </tr>\n",
       "    <tr>\n",
       "      <th>1</th>\n",
       "      <td>24시 SNC 동물메디컬센터</td>\n",
       "      <td>5</td>\n",
       "      <td>새벽에 강아지가 마스크팩을 먹어서 급하게 이곳저곳 전화해봤지만 유일하게 끝까지 통화...</td>\n",
       "      <td>1</td>\n",
       "    </tr>\n",
       "    <tr>\n",
       "      <th>2</th>\n",
       "      <td>24시 SNC 동물메디컬센터</td>\n",
       "      <td>5</td>\n",
       "      <td>검진겸 다니는곳이에요 새벽내내 구토해서 병원을 찾아갔어요ㅠ집 근처에 24시 하는 병...</td>\n",
       "      <td>1</td>\n",
       "    </tr>\n",
       "    <tr>\n",
       "      <th>3</th>\n",
       "      <td>24시 SNC 동물메디컬센터</td>\n",
       "      <td>5</td>\n",
       "      <td>설사랑 혈변 때문에 계속 방문하고 있어요  친절하고 자세하게 설명해주시고 제가 집사...</td>\n",
       "      <td>1</td>\n",
       "    </tr>\n",
       "    <tr>\n",
       "      <th>4</th>\n",
       "      <td>24시 SNC 동물메디컬센터</td>\n",
       "      <td>5</td>\n",
       "      <td>고양이 신부전 때문에 주기적으로 방문하는데 시설도 깔끔하고 무엇보다 고양이를 잘 봐...</td>\n",
       "      <td>1</td>\n",
       "    </tr>\n",
       "  </tbody>\n",
       "</table>\n",
       "</div>"
      ],
      "text/plain": [
       "        store_name  star                                             review  \\\n",
       "0  24시 SNC 동물메디컬센터     5  중성화부터 방광염 수술 그리고 염증까지 믿음직스럽게 진료해주시고 처방해주세요 매번 ...   \n",
       "1  24시 SNC 동물메디컬센터     5  새벽에 강아지가 마스크팩을 먹어서 급하게 이곳저곳 전화해봤지만 유일하게 끝까지 통화...   \n",
       "2  24시 SNC 동물메디컬센터     5  검진겸 다니는곳이에요 새벽내내 구토해서 병원을 찾아갔어요ㅠ집 근처에 24시 하는 병...   \n",
       "3  24시 SNC 동물메디컬센터     5  설사랑 혈변 때문에 계속 방문하고 있어요  친절하고 자세하게 설명해주시고 제가 집사...   \n",
       "4  24시 SNC 동물메디컬센터     5  고양이 신부전 때문에 주기적으로 방문하는데 시설도 깔끔하고 무엇보다 고양이를 잘 봐...   \n",
       "\n",
       "   label  \n",
       "0      1  \n",
       "1      1  \n",
       "2      1  \n",
       "3      1  \n",
       "4      1  "
      ]
     },
     "execution_count": 17,
     "metadata": {},
     "output_type": "execute_result"
    }
   ],
   "source": [
    "data.dropna(inplace=True)\n",
    "data.head()"
   ]
  },
  {
   "cell_type": "code",
   "execution_count": 18,
   "metadata": {},
   "outputs": [
    {
     "data": {
      "text/plain": [
       "<Axes: xlabel='label'>"
      ]
     },
     "execution_count": 18,
     "metadata": {},
     "output_type": "execute_result"
    },
    {
     "data": {
      "image/png": "[encoded data removed]",
      "text/plain": [
       "<Figure size 640x480 with 1 Axes>"
      ]
     },
     "metadata": {},
     "output_type": "display_data"
    }
   ],
   "source": [
    "data[\"label\"].value_counts().plot(kind=\"bar\")"
   ]
  },
  {
   "cell_type": "code",
   "execution_count": 19,
   "metadata": {},
   "outputs": [
    {
     "data": {
      "text/plain": [
       "6761"
      ]
     },
     "execution_count": 19,
     "metadata": {},
     "output_type": "execute_result"
    }
   ],
   "source": [
    "len(data[data[\"star\"] > 3])"
   ]
  },
  {
   "cell_type": "code",
   "execution_count": 20,
   "metadata": {},
   "outputs": [
    {
     "data": {
      "text/html": [
       "<div>\n",
       "<style scoped>\n",
       "    .dataframe tbody tr th:only-of-type {\n",
       "        vertical-align: middle;\n",
       "    }\n",
       "\n",
       "    .dataframe tbody tr th {\n",
       "        vertical-align: top;\n",
       "    }\n",
       "\n",
       "    .dataframe thead th {\n",
       "        text-align: right;\n",
       "    }\n",
       "</style>\n",
       "<table border=\"1\" class=\"dataframe\">\n",
       "  <thead>\n",
       "    <tr style=\"text-align: right;\">\n",
       "      <th></th>\n",
       "      <th>store_name</th>\n",
       "      <th>star</th>\n",
       "      <th>review</th>\n",
       "      <th>label</th>\n",
       "    </tr>\n",
       "  </thead>\n",
       "  <tbody>\n",
       "    <tr>\n",
       "      <th>0</th>\n",
       "      <td>태능동물병원</td>\n",
       "      <td>3</td>\n",
       "      <td>방광염으로 카테터시술 3일 입원치료하고 토요일 퇴원했으나 퇴원날부터 전혀 소변못봐서...</td>\n",
       "      <td>0</td>\n",
       "    </tr>\n",
       "    <tr>\n",
       "      <th>1</th>\n",
       "      <td>하니동물병원</td>\n",
       "      <td>1</td>\n",
       "      <td>일요일 늦은시간까지 진료 가능하고 선생님도 친절하세요</td>\n",
       "      <td>0</td>\n",
       "    </tr>\n",
       "    <tr>\n",
       "      <th>2</th>\n",
       "      <td>올드페리도넛</td>\n",
       "      <td>1</td>\n",
       "      <td>도넛맛집답게 저어어엉말 맛있었어여 ㅠㅅ ㅠ</td>\n",
       "      <td>0</td>\n",
       "    </tr>\n",
       "    <tr>\n",
       "      <th>3</th>\n",
       "      <td>알베르</td>\n",
       "      <td>3</td>\n",
       "      <td>주말의 강남역에서 넉넉히 앉을 수 있는 넓은 카페근데 커피, 디저트, 음료 다 별루</td>\n",
       "      <td>0</td>\n",
       "    </tr>\n",
       "    <tr>\n",
       "      <th>4</th>\n",
       "      <td>강서동물병원</td>\n",
       "      <td>5</td>\n",
       "      <td>병원 바닥에 개똥있는데 치우지도 않는 건 왜죠... ? 고양이한테 후시딘발라줘도 되...</td>\n",
       "      <td>1</td>\n",
       "    </tr>\n",
       "  </tbody>\n",
       "</table>\n",
       "</div>"
      ],
      "text/plain": [
       "  store_name  star                                             review  label\n",
       "0     태능동물병원     3  방광염으로 카테터시술 3일 입원치료하고 토요일 퇴원했으나 퇴원날부터 전혀 소변못봐서...      0\n",
       "1     하니동물병원     1                      일요일 늦은시간까지 진료 가능하고 선생님도 친절하세요      0\n",
       "2     올드페리도넛     1                            도넛맛집답게 저어어엉말 맛있었어여 ㅠㅅ ㅠ      0\n",
       "3        알베르     3     주말의 강남역에서 넉넉히 앉을 수 있는 넓은 카페근데 커피, 디저트, 음료 다 별루      0\n",
       "4     강서동물병원     5  병원 바닥에 개똥있는데 치우지도 않는 건 왜죠... ? 고양이한테 후시딘발라줘도 되...      1"
      ]
     },
     "execution_count": 20,
     "metadata": {},
     "output_type": "execute_result"
    }
   ],
   "source": [
    "negative_upsampled = resample(data[data['label'] == 0], replace=True, n_samples=6761, random_state=42)\n",
    "kakao_data = pd.concat([data[data['label'] == 1], negative_upsampled])\n",
    "kakao_data = kakao_data.sample(frac=1, random_state=42).reset_index(drop=True)\n",
    "kakao_data.head()"
   ]
  },
  {
   "cell_type": "code",
   "execution_count": 21,
   "metadata": {},
   "outputs": [
    {
     "data": {
      "text/plain": [
       "<Axes: xlabel='label'>"
      ]
     },
     "execution_count": 21,
     "metadata": {},
     "output_type": "execute_result"
    },
    {
     "data": {
      "image/png": "[encoded data removed]",
      "text/plain": [
       "<Figure size 640x480 with 1 Axes>"
      ]
     },
     "metadata": {},
     "output_type": "display_data"
    }
   ],
   "source": [
    "kakao_data['label'].value_counts().plot(kind=\"bar\")"
   ]
  },
  {
   "cell_type": "code",
   "execution_count": 22,
   "metadata": {},
   "outputs": [
    {
     "data": {
      "text/html": [
       "<div>\n",
       "<style scoped>\n",
       "    .dataframe tbody tr th:only-of-type {\n",
       "        vertical-align: middle;\n",
       "    }\n",
       "\n",
       "    .dataframe tbody tr th {\n",
       "        vertical-align: top;\n",
       "    }\n",
       "\n",
       "    .dataframe thead th {\n",
       "        text-align: right;\n",
       "    }\n",
       "</style>\n",
       "<table border=\"1\" class=\"dataframe\">\n",
       "  <thead>\n",
       "    <tr style=\"text-align: right;\">\n",
       "      <th></th>\n",
       "      <th>review</th>\n",
       "      <th>label</th>\n",
       "    </tr>\n",
       "  </thead>\n",
       "  <tbody>\n",
       "    <tr>\n",
       "      <th>0</th>\n",
       "      <td>방광염으로 카테터시술 3일 입원치료하고 토요일 퇴원했으나 퇴원날부터 전혀 소변못봐서...</td>\n",
       "      <td>0</td>\n",
       "    </tr>\n",
       "    <tr>\n",
       "      <th>1</th>\n",
       "      <td>일요일 늦은시간까지 진료 가능하고 선생님도 친절하세요</td>\n",
       "      <td>0</td>\n",
       "    </tr>\n",
       "    <tr>\n",
       "      <th>2</th>\n",
       "      <td>도넛맛집답게 저어어엉말 맛있었어여 ㅠㅅ ㅠ</td>\n",
       "      <td>0</td>\n",
       "    </tr>\n",
       "    <tr>\n",
       "      <th>3</th>\n",
       "      <td>주말의 강남역에서 넉넉히 앉을 수 있는 넓은 카페근데 커피, 디저트, 음료 다 별루</td>\n",
       "      <td>0</td>\n",
       "    </tr>\n",
       "    <tr>\n",
       "      <th>4</th>\n",
       "      <td>병원 바닥에 개똥있는데 치우지도 않는 건 왜죠... ? 고양이한테 후시딘발라줘도 되...</td>\n",
       "      <td>1</td>\n",
       "    </tr>\n",
       "  </tbody>\n",
       "</table>\n",
       "</div>"
      ],
      "text/plain": [
       "                                              review  label\n",
       "0  방광염으로 카테터시술 3일 입원치료하고 토요일 퇴원했으나 퇴원날부터 전혀 소변못봐서...      0\n",
       "1                      일요일 늦은시간까지 진료 가능하고 선생님도 친절하세요      0\n",
       "2                            도넛맛집답게 저어어엉말 맛있었어여 ㅠㅅ ㅠ      0\n",
       "3     주말의 강남역에서 넉넉히 앉을 수 있는 넓은 카페근데 커피, 디저트, 음료 다 별루      0\n",
       "4  병원 바닥에 개똥있는데 치우지도 않는 건 왜죠... ? 고양이한테 후시딘발라줘도 되...      1"
      ]
     },
     "execution_count": 22,
     "metadata": {},
     "output_type": "execute_result"
    }
   ],
   "source": [
    "kakao_data.drop([\"store_name\", \"star\"], axis=1, inplace=True)\n",
    "kakao_data.head()"
   ]
  },
  {
   "cell_type": "code",
   "execution_count": 23,
   "metadata": {},
   "outputs": [
    {
     "data": {
      "text/html": [
       "<div>\n",
       "<style scoped>\n",
       "    .dataframe tbody tr th:only-of-type {\n",
       "        vertical-align: middle;\n",
       "    }\n",
       "\n",
       "    .dataframe tbody tr th {\n",
       "        vertical-align: top;\n",
       "    }\n",
       "\n",
       "    .dataframe thead th {\n",
       "        text-align: right;\n",
       "    }\n",
       "</style>\n",
       "<table border=\"1\" class=\"dataframe\">\n",
       "  <thead>\n",
       "    <tr style=\"text-align: right;\">\n",
       "      <th></th>\n",
       "      <th>document</th>\n",
       "      <th>label</th>\n",
       "    </tr>\n",
       "  </thead>\n",
       "  <tbody>\n",
       "    <tr>\n",
       "      <th>0</th>\n",
       "      <td>방광염으로 카테터시술 3일 입원치료하고 토요일 퇴원했으나 퇴원날부터 전혀 소변못봐서...</td>\n",
       "      <td>0</td>\n",
       "    </tr>\n",
       "    <tr>\n",
       "      <th>1</th>\n",
       "      <td>일요일 늦은시간까지 진료 가능하고 선생님도 친절하세요</td>\n",
       "      <td>0</td>\n",
       "    </tr>\n",
       "    <tr>\n",
       "      <th>2</th>\n",
       "      <td>도넛맛집답게 저어어엉말 맛있었어여 ㅠㅅ ㅠ</td>\n",
       "      <td>0</td>\n",
       "    </tr>\n",
       "    <tr>\n",
       "      <th>3</th>\n",
       "      <td>주말의 강남역에서 넉넉히 앉을 수 있는 넓은 카페근데 커피, 디저트, 음료 다 별루</td>\n",
       "      <td>0</td>\n",
       "    </tr>\n",
       "    <tr>\n",
       "      <th>4</th>\n",
       "      <td>병원 바닥에 개똥있는데 치우지도 않는 건 왜죠... ? 고양이한테 후시딘발라줘도 되...</td>\n",
       "      <td>1</td>\n",
       "    </tr>\n",
       "  </tbody>\n",
       "</table>\n",
       "</div>"
      ],
      "text/plain": [
       "                                            document  label\n",
       "0  방광염으로 카테터시술 3일 입원치료하고 토요일 퇴원했으나 퇴원날부터 전혀 소변못봐서...      0\n",
       "1                      일요일 늦은시간까지 진료 가능하고 선생님도 친절하세요      0\n",
       "2                            도넛맛집답게 저어어엉말 맛있었어여 ㅠㅅ ㅠ      0\n",
       "3     주말의 강남역에서 넉넉히 앉을 수 있는 넓은 카페근데 커피, 디저트, 음료 다 별루      0\n",
       "4  병원 바닥에 개똥있는데 치우지도 않는 건 왜죠... ? 고양이한테 후시딘발라줘도 되...      1"
      ]
     },
     "execution_count": 23,
     "metadata": {},
     "output_type": "execute_result"
    }
   ],
   "source": [
    "kakao_data.rename(columns={\"review\": \"document\"}, inplace=True)\n",
    "kakao_data.head()"
   ]
  },
  {
   "cell_type": "code",
   "execution_count": 24,
   "metadata": {},
   "outputs": [
    {
     "data": {
      "text/html": [
       "<div>\n",
       "<style scoped>\n",
       "    .dataframe tbody tr th:only-of-type {\n",
       "        vertical-align: middle;\n",
       "    }\n",
       "\n",
       "    .dataframe tbody tr th {\n",
       "        vertical-align: top;\n",
       "    }\n",
       "\n",
       "    .dataframe thead th {\n",
       "        text-align: right;\n",
       "    }\n",
       "</style>\n",
       "<table border=\"1\" class=\"dataframe\">\n",
       "  <thead>\n",
       "    <tr style=\"text-align: right;\">\n",
       "      <th></th>\n",
       "      <th>document</th>\n",
       "      <th>label</th>\n",
       "    </tr>\n",
       "  </thead>\n",
       "  <tbody>\n",
       "    <tr>\n",
       "      <th>0</th>\n",
       "      <td>다른동물병원 2곳을 거치고 고양이전문병원인 닥터캣을 가게되었어요!\\n왜 더빨리 가지...</td>\n",
       "      <td>1</td>\n",
       "    </tr>\n",
       "    <tr>\n",
       "      <th>1</th>\n",
       "      <td>택배 전화번호나 똑바로 해라. 엉뚱한 사람 짜증나게 하지말고.\\n윤미현 정신차려.</td>\n",
       "      <td>0</td>\n",
       "    </tr>\n",
       "    <tr>\n",
       "      <th>2</th>\n",
       "      <td>Gave wrong diagnosis for my cat. Kept saying n...</td>\n",
       "      <td>0</td>\n",
       "    </tr>\n",
       "    <tr>\n",
       "      <th>3</th>\n",
       "      <td>갈 때마다 한결같이 친절하시고 진료도 정말 꼼꼼히 봐주셔요. 집에서 좀 먼 거리이지...</td>\n",
       "      <td>1</td>\n",
       "    </tr>\n",
       "    <tr>\n",
       "      <th>4</th>\n",
       "      <td>고양이 있음^^</td>\n",
       "      <td>1</td>\n",
       "    </tr>\n",
       "  </tbody>\n",
       "</table>\n",
       "</div>"
      ],
      "text/plain": [
       "                                            document  label\n",
       "0  다른동물병원 2곳을 거치고 고양이전문병원인 닥터캣을 가게되었어요!\\n왜 더빨리 가지...      1\n",
       "1      택배 전화번호나 똑바로 해라. 엉뚱한 사람 짜증나게 하지말고.\\n윤미현 정신차려.      0\n",
       "2  Gave wrong diagnosis for my cat. Kept saying n...      0\n",
       "3  갈 때마다 한결같이 친절하시고 진료도 정말 꼼꼼히 봐주셔요. 집에서 좀 먼 거리이지...      1\n",
       "4                                           고양이 있음^^      1"
      ]
     },
     "execution_count": 24,
     "metadata": {},
     "output_type": "execute_result"
    }
   ],
   "source": [
    "merged_data = pd.concat([google_data, kakao_data], ignore_index=True)\n",
    "merged_data.head()"
   ]
  },
  {
   "cell_type": "code",
   "execution_count": 25,
   "metadata": {},
   "outputs": [
    {
     "name": "stdout",
     "output_type": "stream",
     "text": [
      "전처리 후 데이터 개수 : 10527\n"
     ]
    },
    {
     "name": "stderr",
     "output_type": "stream",
     "text": [
      "/var/folders/1g/mh4r7xrj5gg2lcbjp9rv33fr0000gn/T/ipykernel_5587/3706393539.py:4: FutureWarning: A value is trying to be set on a copy of a DataFrame or Series through chained assignment using an inplace method.\n",
      "The behavior will change in pandas 3.0. This inplace method will never work because the intermediate object on which we are setting values always behaves as a copy.\n",
      "\n",
      "For example, when doing 'df[col].method(value, inplace=True)', try using 'df.method({col: value}, inplace=True)' or df[col] = df[col].method(value) instead, to perform the operation inplace on the original object.\n",
      "\n",
      "\n",
      "  merged_data['document'].replace('', np.nan, inplace=True)\n"
     ]
    }
   ],
   "source": [
    "merged_data.drop_duplicates(subset=['document'], inplace=True)\n",
    "merged_data['document'] = merged_data['document'].str.replace(\"[^ㄱ-ㅎㅏ-ㅣ가-힣 ]\",\"\", regex=True)\n",
    "merged_data['document'] = merged_data['document'].str.replace('^ +', \"\")\n",
    "merged_data['document'].replace('', np.nan, inplace=True)\n",
    "merged_data = merged_data.dropna(how='any')\n",
    "print('전처리 후 데이터 개수 :',len(merged_data))"
   ]
  },
  {
   "cell_type": "code",
   "execution_count": 26,
   "metadata": {},
   "outputs": [
    {
     "data": {
      "text/plain": [
       "(8421, 2106)"
      ]
     },
     "execution_count": 26,
     "metadata": {},
     "output_type": "execute_result"
    }
   ],
   "source": [
    "train_data, test_data = train_test_split(merged_data, test_size=0.2, random_state=42, shuffle=True)\n",
    "len(train_data), len(test_data)"
   ]
  },
  {
   "cell_type": "code",
   "execution_count": 28,
   "metadata": {},
   "outputs": [],
   "source": [
    "train_data.to_csv(\"../data/train_reviews.csv\")\n",
    "test_data.to_csv(\"../data/test_reviews.csv\")"
   ]
  },
  {
   "cell_type": "code",
   "execution_count": 44,
   "metadata": {},
   "outputs": [
    {
     "name": "stdout",
     "output_type": "stream",
     "text": [
      "전체 리뷰 개수 : 200000\n"
     ]
    }
   ],
   "source": [
    "total_data = pd.read_table('https://raw.githubusercontent.com/bab2min/corpus/master/sentiment/naver_shopping.txt', names=['ratings', 'reviews'])\n",
    "print('전체 리뷰 개수 :',len(total_data))"
   ]
  },
  {
   "cell_type": "code",
   "execution_count": 45,
   "metadata": {},
   "outputs": [
    {
     "data": {
      "text/html": [
       "<div>\n",
       "<style scoped>\n",
       "    .dataframe tbody tr th:only-of-type {\n",
       "        vertical-align: middle;\n",
       "    }\n",
       "\n",
       "    .dataframe tbody tr th {\n",
       "        vertical-align: top;\n",
       "    }\n",
       "\n",
       "    .dataframe thead th {\n",
       "        text-align: right;\n",
       "    }\n",
       "</style>\n",
       "<table border=\"1\" class=\"dataframe\">\n",
       "  <thead>\n",
       "    <tr style=\"text-align: right;\">\n",
       "      <th></th>\n",
       "      <th>ratings</th>\n",
       "      <th>reviews</th>\n",
       "      <th>label</th>\n",
       "    </tr>\n",
       "  </thead>\n",
       "  <tbody>\n",
       "    <tr>\n",
       "      <th>0</th>\n",
       "      <td>5</td>\n",
       "      <td>배공빠르고 굿</td>\n",
       "      <td>1</td>\n",
       "    </tr>\n",
       "    <tr>\n",
       "      <th>1</th>\n",
       "      <td>2</td>\n",
       "      <td>택배가 엉망이네용 저희집 밑에층에 말도없이 놔두고가고</td>\n",
       "      <td>0</td>\n",
       "    </tr>\n",
       "    <tr>\n",
       "      <th>2</th>\n",
       "      <td>5</td>\n",
       "      <td>아주좋아요 바지 정말 좋아서2개 더 구매했어요 이가격에 대박입니다. 바느질이 조금 ...</td>\n",
       "      <td>1</td>\n",
       "    </tr>\n",
       "    <tr>\n",
       "      <th>3</th>\n",
       "      <td>2</td>\n",
       "      <td>선물용으로 빨리 받아서 전달했어야 하는 상품이었는데 머그컵만 와서 당황했습니다. 전...</td>\n",
       "      <td>0</td>\n",
       "    </tr>\n",
       "    <tr>\n",
       "      <th>4</th>\n",
       "      <td>5</td>\n",
       "      <td>민트색상 예뻐요. 옆 손잡이는 거는 용도로도 사용되네요 ㅎㅎ</td>\n",
       "      <td>1</td>\n",
       "    </tr>\n",
       "  </tbody>\n",
       "</table>\n",
       "</div>"
      ],
      "text/plain": [
       "   ratings                                            reviews  label\n",
       "0        5                                            배공빠르고 굿      1\n",
       "1        2                      택배가 엉망이네용 저희집 밑에층에 말도없이 놔두고가고      0\n",
       "2        5  아주좋아요 바지 정말 좋아서2개 더 구매했어요 이가격에 대박입니다. 바느질이 조금 ...      1\n",
       "3        2  선물용으로 빨리 받아서 전달했어야 하는 상품이었는데 머그컵만 와서 당황했습니다. 전...      0\n",
       "4        5                  민트색상 예뻐요. 옆 손잡이는 거는 용도로도 사용되네요 ㅎㅎ      1"
      ]
     },
     "execution_count": 45,
     "metadata": {},
     "output_type": "execute_result"
    }
   ],
   "source": [
    "total_data['label'] = np.select([total_data.ratings > 3], [1], default=0)\n",
    "total_data.head()"
   ]
  },
  {
   "cell_type": "code",
   "execution_count": 46,
   "metadata": {},
   "outputs": [
    {
     "data": {
      "text/plain": [
       "ratings    0\n",
       "reviews    0\n",
       "label      0\n",
       "dtype: int64"
      ]
     },
     "execution_count": 46,
     "metadata": {},
     "output_type": "execute_result"
    }
   ],
   "source": [
    "total_data.isnull().sum()"
   ]
  },
  {
   "cell_type": "code",
   "execution_count": 47,
   "metadata": {},
   "outputs": [
    {
     "data": {
      "text/plain": [
       "<Axes: xlabel='label'>"
      ]
     },
     "execution_count": 47,
     "metadata": {},
     "output_type": "execute_result"
    },
    {
     "data": {
      "image/png": "[encoded data removed]",
      "text/plain": [
       "<Figure size 640x480 with 1 Axes>"
      ]
     },
     "metadata": {},
     "output_type": "display_data"
    }
   ],
   "source": [
    "total_data[\"label\"].value_counts().plot(kind=\"bar\")"
   ]
  },
  {
   "cell_type": "code",
   "execution_count": 48,
   "metadata": {},
   "outputs": [
    {
     "data": {
      "text/html": [
       "<div>\n",
       "<style scoped>\n",
       "    .dataframe tbody tr th:only-of-type {\n",
       "        vertical-align: middle;\n",
       "    }\n",
       "\n",
       "    .dataframe tbody tr th {\n",
       "        vertical-align: top;\n",
       "    }\n",
       "\n",
       "    .dataframe thead th {\n",
       "        text-align: right;\n",
       "    }\n",
       "</style>\n",
       "<table border=\"1\" class=\"dataframe\">\n",
       "  <thead>\n",
       "    <tr style=\"text-align: right;\">\n",
       "      <th></th>\n",
       "      <th>document</th>\n",
       "      <th>label</th>\n",
       "    </tr>\n",
       "  </thead>\n",
       "  <tbody>\n",
       "    <tr>\n",
       "      <th>0</th>\n",
       "      <td>배공빠르고 굿</td>\n",
       "      <td>1</td>\n",
       "    </tr>\n",
       "    <tr>\n",
       "      <th>1</th>\n",
       "      <td>택배가 엉망이네용 저희집 밑에층에 말도없이 놔두고가고</td>\n",
       "      <td>0</td>\n",
       "    </tr>\n",
       "    <tr>\n",
       "      <th>2</th>\n",
       "      <td>아주좋아요 바지 정말 좋아서2개 더 구매했어요 이가격에 대박입니다. 바느질이 조금 ...</td>\n",
       "      <td>1</td>\n",
       "    </tr>\n",
       "    <tr>\n",
       "      <th>3</th>\n",
       "      <td>선물용으로 빨리 받아서 전달했어야 하는 상품이었는데 머그컵만 와서 당황했습니다. 전...</td>\n",
       "      <td>0</td>\n",
       "    </tr>\n",
       "    <tr>\n",
       "      <th>4</th>\n",
       "      <td>민트색상 예뻐요. 옆 손잡이는 거는 용도로도 사용되네요 ㅎㅎ</td>\n",
       "      <td>1</td>\n",
       "    </tr>\n",
       "  </tbody>\n",
       "</table>\n",
       "</div>"
      ],
      "text/plain": [
       "                                            document  label\n",
       "0                                            배공빠르고 굿      1\n",
       "1                      택배가 엉망이네용 저희집 밑에층에 말도없이 놔두고가고      0\n",
       "2  아주좋아요 바지 정말 좋아서2개 더 구매했어요 이가격에 대박입니다. 바느질이 조금 ...      1\n",
       "3  선물용으로 빨리 받아서 전달했어야 하는 상품이었는데 머그컵만 와서 당황했습니다. 전...      0\n",
       "4                  민트색상 예뻐요. 옆 손잡이는 거는 용도로도 사용되네요 ㅎㅎ      1"
      ]
     },
     "execution_count": 48,
     "metadata": {},
     "output_type": "execute_result"
    }
   ],
   "source": [
    "total_data.drop([\"ratings\"], axis=1, inplace=True)\n",
    "total_data.rename(columns={\"reviews\": \"document\"}, inplace=True)\n",
    "total_data.head()"
   ]
  },
  {
   "cell_type": "code",
   "execution_count": 49,
   "metadata": {},
   "outputs": [],
   "source": [
    "total_data.to_csv(\"../data/naver_shopping_reviews.csv\")"
   ]
  }
 ],
 "metadata": {
  "kernelspec": {
   "display_name": "eda-repo",
   "language": "python",
   "name": "python3"
  },
  "language_info": {
   "codemirror_mode": {
    "name": "ipython",
    "version": 3
   },
   "file_extension": ".py",
   "mimetype": "text/x-python",
   "name": "python",
   "nbconvert_exporter": "python",
   "pygments_lexer": "ipython3",
   "version": "3.10.13"
  }
 },
 "nbformat": 4,
 "nbformat_minor": 2
}
